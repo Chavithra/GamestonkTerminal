{
 "cells": [
  {
   "cell_type": "markdown",
   "metadata": {},
   "source": [
    "# INTERCEPT PARSER"
   ]
  },
  {
   "cell_type": "code",
   "execution_count": null,
   "metadata": {},
   "outputs": [],
   "source": [
    "import argparse\n",
    "from unittest.mock import patch\n",
    "from openbb_terminal.economy import economy_controller\n",
    "\n",
    "ec = economy_controller.EconomyController(queue=[])\n",
    "\n",
    "parser_list = []\n",
    "\n",
    "\n",
    "def mock_func(parser: argparse.ArgumentParser, *args, **kwargs):\n",
    "    parser_list.append(parser)\n",
    "    return None\n",
    "\n",
    "\n",
    "with patch.object(ec, \"parse_known_args_and_warn\", new=mock_func) as mock_method:\n",
    "    ns = ec.call_overview(other_args=[\"--help\"])\n",
    "\n",
    "parser_list"
   ]
  },
  {
   "cell_type": "markdown",
   "metadata": {},
   "source": [
    "# GET ALL CONTROLLER CLASSES"
   ]
  },
  {
   "cell_type": "code",
   "execution_count": null,
   "metadata": {},
   "outputs": [],
   "source": [
    "from pathlib import Path\n",
    "from inspect import getmembers, isclass\n",
    "from importlib.util import spec_from_file_location, module_from_spec\n",
    "import openbb_terminal\n",
    "\n",
    "\n",
    "def load_module(path: Path):\n",
    "    \"\"\"Loads a module from a given Path.\n",
    "    Parameters:\n",
    "    ----------\n",
    "    path: Path\n",
    "        The path to the module\n",
    "    Returns:\n",
    "    ----------\n",
    "    The python module\n",
    "    \"\"\"\n",
    "    spec = spec_from_file_location(path.stem, path)\n",
    "    mod = module_from_spec(spec)\n",
    "    spec.loader.exec_module(mod)\n",
    "    return mod\n",
    "\n",
    "\n",
    "def get_controller_path_list():\n",
    "    module_path_generator = Path(openbb_terminal.__file__).parent.glob(\n",
    "        \"**/*controller.py\"\n",
    "    )\n",
    "    module_path_list = list(module_path_generator)\n",
    "    return module_path_list\n",
    "\n",
    "\n",
    "try:\n",
    "    import darts  # pylint: disable=W0611 # noqa: F401\n",
    "\n",
    "    # If you just import darts this will pass during pip install, this creates\n",
    "    # Failures later on, also importing utils ensures that darts is installed correctly\n",
    "    from darts import utils  # pylint: disable=W0611 # noqa: F401\n",
    "\n",
    "    FORECASTING = True\n",
    "except ImportError:\n",
    "    FORECASTING = False\n",
    "\n",
    "\n",
    "def get_module_class_list(module):\n",
    "    class_list = getmembers(module, isclass)\n",
    "    class_name_list = [cls[0] for cls in class_list]\n",
    "\n",
    "    return class_name_list\n",
    "\n",
    "\n",
    "def build_controller_name(module):\n",
    "    name_split = module.__name__.split(\"_\")\n",
    "    class_name = \"\".join([name.title() for name in name_split])\n",
    "    return class_name\n",
    "\n",
    "\n",
    "def get_controller_class_list():\n",
    "    controller_path_list = get_controller_path_list()\n",
    "    controller_class_list = []\n",
    "\n",
    "    for controller_path in controller_path_list:\n",
    "        if not FORECASTING and \"forecast\" in str(controller_path):\n",
    "            continue\n",
    "\n",
    "        module = load_module(path=controller_path)\n",
    "        module_class_list = get_module_class_list(module=module)\n",
    "        expected_class_name = build_controller_name(module=module)\n",
    "\n",
    "        if expected_class_name in module_class_list:\n",
    "            controller_class_list.append(getattr(module, expected_class_name))\n",
    "        else:\n",
    "            # I think python class should watch the module name\n",
    "            # It's there a convention like this?\n",
    "            print(controller_path)\n",
    "\n",
    "    return controller_class_list\n",
    "\n",
    "\n",
    "controller_class_list = get_controller_class_list()\n",
    "\n",
    "print(controller_class_list)"
   ]
  }
 ],
 "metadata": {
  "kernelspec": {
   "display_name": "Python 3.9.12 ('openbb-terminal')",
   "language": "python",
   "name": "python3"
  },
  "language_info": {
   "name": "python",
   "version": "3.9.12"
  },
  "orig_nbformat": 4,
  "vscode": {
   "interpreter": {
    "hash": "811a8ebb02a69a0058b89c341233bddbf2d95a877272f2a215e4ccb65781d230"
   }
  }
 },
 "nbformat": 4,
 "nbformat_minor": 2
}
